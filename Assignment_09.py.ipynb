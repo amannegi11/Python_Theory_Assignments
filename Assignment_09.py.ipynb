{
 "cells": [
  {
   "cell_type": "markdown",
   "id": "c01932e0",
   "metadata": {},
   "source": [
    "# 1. To what does a relative path refer?"
   ]
  },
  {
   "cell_type": "markdown",
   "id": "0946ab7f",
   "metadata": {},
   "source": [
    "The relative path is the path to some file with respect to our Current/Present Working Directory (PWD).\n",
    "\n",
    "For example: if Absolute path to a file called test.txt is: C:/users/admin/docs/test.txt\n",
    "\n",
    "If my PWD is C:/users/admin/ , then the relative path to test.txt would be: docs/test.txt\n",
    "\n",
    "Note: PWD + relative path = absolute path"
   ]
  },
  {
   "cell_type": "markdown",
   "id": "c2f00916",
   "metadata": {},
   "source": [
    "# 2. What does an absolute path start with your operating system?"
   ]
  },
  {
   "cell_type": "markdown",
   "id": "66e952ee",
   "metadata": {},
   "source": [
    "In Linux based systems the absolute path starts with /. Whereas in Windows based systems absolute path starts with a drive like C:\\."
   ]
  },
  {
   "cell_type": "markdown",
   "id": "7793ba70",
   "metadata": {},
   "source": [
    "# 3. What do the functions os.getcwd() and os.chdir() do?"
   ]
  },
  {
   "cell_type": "markdown",
   "id": "bf839b0f",
   "metadata": {},
   "source": [
    "os.getcwd() method tells us the location of current working directory (CWD). Whereas os.chdir() method in Python used to change the current working directory to specified path. These functions are similar to linux commands pwd and cd."
   ]
  },
  {
   "cell_type": "code",
   "execution_count": 8,
   "id": "af9582f3",
   "metadata": {},
   "outputs": [
    {
     "name": "stdout",
     "output_type": "stream",
     "text": [
      "C:\\Users\\negia\\Challenges\n",
      "C:\\Users\\negia\\Project 1\n"
     ]
    }
   ],
   "source": [
    "import os\n",
    "\n",
    "print(os.getcwd()) # Prints the current Working Directory\n",
    "path = r'C:\\\\Users\\\\negia\\\\Project 1'\n",
    "os.chdir(path)    # Changes to the specified directory\n",
    "print(os.getcwd())"
   ]
  },
  {
   "cell_type": "markdown",
   "id": "8d77813c",
   "metadata": {},
   "source": [
    "# 4. What are the . and .. folders?"
   ]
  },
  {
   "cell_type": "markdown",
   "id": "e5d076f5",
   "metadata": {},
   "source": [
    ". Represents the Current Directory, whereas .. Represents the Parent Directory of the Current Directory."
   ]
  },
  {
   "cell_type": "markdown",
   "id": "f70ebfa6",
   "metadata": {},
   "source": [
    "# 5. In C:\\bacon\\eggs\\spam.txt, which part is the dir name, and which part is the base name?"
   ]
  },
  {
   "cell_type": "markdown",
   "id": "9fe97a27",
   "metadata": {},
   "source": [
    "For C:\\bacon\\eggs\\spam.txt\n",
    "\n",
    "The dir name is C:\\bacon\\eggs\n",
    "\n",
    "The Base name is spam.txt"
   ]
  },
  {
   "cell_type": "code",
   "execution_count": 9,
   "id": "5fa756f8",
   "metadata": {},
   "outputs": [
    {
     "name": "stdout",
     "output_type": "stream",
     "text": [
      "C:\\bacon\\eggs\n",
      "spam.txt\n"
     ]
    }
   ],
   "source": [
    "import os\n",
    "\n",
    "path = r'C:\\bacon\\eggs\\spam.txt'\n",
    "\n",
    "print(os.path.dirname(path))\n",
    "print(os.path.basename(path))"
   ]
  },
  {
   "cell_type": "markdown",
   "id": "057ad131",
   "metadata": {},
   "source": [
    "# 6. What are the three “mode” arguments that can be passed to the open() function?"
   ]
  },
  {
   "cell_type": "markdown",
   "id": "3282719b",
   "metadata": {},
   "source": [
    "A file can be Accessed in python using open() function. The three modes of open() function are:\n",
    "\n",
    "‘r’ – Read Mode: This is the default mode for open(). The file is opened and a pointer is positioned at the beginning of the file’s content. This mode is used to read the content of the file.\n",
    "\n",
    "‘w’ – Write Mode: Using this mode will overwrite any existing content in a file. If the given file does not exist, a new one will be created.\n",
    "\n",
    "‘a’ – Append Mode: With this mode the user can append the data without overwriting already existing data in the file."
   ]
  },
  {
   "cell_type": "markdown",
   "id": "2db5c901",
   "metadata": {},
   "source": [
    "# 7. What happens if an existing file is opened in write mode?"
   ]
  },
  {
   "cell_type": "markdown",
   "id": "b8523480",
   "metadata": {},
   "source": [
    "Using this mode will overwrite any existing content in a file. If the given file does not exist, a new one will be created."
   ]
  },
  {
   "cell_type": "markdown",
   "id": "9d454c02",
   "metadata": {},
   "source": [
    "\n",
    "# 8. How do you tell the difference between read() and readlines()?"
   ]
  },
  {
   "cell_type": "markdown",
   "id": "41359d86",
   "metadata": {},
   "source": [
    "The main difference is that read() will read the whole file at once and then print out the first characters that take up as many bytes as specified in the parenthesis\n",
    "\n",
    "Whereas the readline() that will read and print out only the first characters that take up as many bytes as specified in the parenthesis. We may want to use readline() when we're reading files that are too big for our RAM.\n",
    "\n",
    "The read() would treat each character in the file separately, meaning that the iteration would happen for every character.\n",
    "\n",
    "The readline() function, on the other hand, only reads a single line of the file. This means that if the first line of the file were three lines long, the readline() function would only parse (or iterate/operate) on the first line of the file."
   ]
  },
  {
   "cell_type": "markdown",
   "id": "7f26d039",
   "metadata": {},
   "source": [
    "# 9. What data structure does a shelf value resemble?"
   ]
  },
  {
   "cell_type": "markdown",
   "id": "ca2646e2",
   "metadata": {},
   "source": [
    "A shelf value resembles a dictionary value, it has keys and values, along with keys() and values() methods that work similarly to the dictionary methods of the same names."
   ]
  },
  {
   "cell_type": "code",
   "execution_count": null,
   "id": "f87845fb",
   "metadata": {},
   "outputs": [],
   "source": []
  }
 ],
 "metadata": {
  "kernelspec": {
   "display_name": "Python 3 (ipykernel)",
   "language": "python",
   "name": "python3"
  },
  "language_info": {
   "codemirror_mode": {
    "name": "ipython",
    "version": 3
   },
   "file_extension": ".py",
   "mimetype": "text/x-python",
   "name": "python",
   "nbconvert_exporter": "python",
   "pygments_lexer": "ipython3",
   "version": "3.9.12"
  }
 },
 "nbformat": 4,
 "nbformat_minor": 5
}
