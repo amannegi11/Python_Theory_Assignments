{
 "cells": [
  {
   "cell_type": "markdown",
   "id": "42dd0c4a",
   "metadata": {},
   "source": [
    "# Assignment of FSDS "
   ]
  },
  {
   "cell_type": "markdown",
   "id": "404ec4c2",
   "metadata": {},
   "source": [
    "## 1. In the below elements which of them are values or an expression? eg:- values can be\n",
    "integer or string and expressions will be mathematical operators.\n",
    "###  *\n",
    "### 'hello'\n",
    "### -87.8\n",
    "### -\n",
    "### /\n",
    "### +\n",
    "### 6"
   ]
  },
  {
   "cell_type": "markdown",
   "id": "d53fb561",
   "metadata": {},
   "source": [
    "###  values are \n",
    "- 1st= [ 'hello', -87.8 ,6]\n",
    
    
  "### expressions are\n",
    "- 2nd =[ * , - , \\ , +]"
   ]
  },
  {
   "cell_type": "markdown",
   "id": "bd90dd3c",
   "metadata": {},
   "source": [
    "## 2. What is the difference between string and variable?"
   ]
  },
  {
   "cell_type": "markdown",
   "id": "215407fa",
   "metadata": {},
   "source": [
    "- Variable -  A Variable is a store of information, and a String is a type of information you would store in a Variable\n",
    "- String - A String is usually words, enclosed with \"\" and ''\n",
    "- Example  X =\"aman\"  X is the Variable and \" aman\" string ."
   ]
  },
  {
   "cell_type": "markdown",
   "id": "33a13152",
   "metadata": {},
   "source": [
    "## 3. Describe three different data types.\n",
    "\n",
    "##### Data types - In programming, data type is an important concept . Variables can store data of different types, and different types can do different things.\n",
    "- Strings in python are surrounded by either single quotation marks, or double quotation marks example \"rohit\" , '123' etc\n",
    "- integer in python are whole number positive or negative whole numbers without a fractional part and having unlimited precision, e.g. 0, 100, -10\n",
    "- The float type in Python represents the floating point number. Float is used to represent real numbers and is written with a decimal point dividing the integer and fractional parts. For example, 97.98, 32.3 etc \n",
    "\n"
   ]
  },
  {
   "cell_type": "markdown",
   "id": "ab8ca77b",
   "metadata": {},
   "source": [
    "### 4. What is an expression made up of? What do all expressions do?\n",
    "- An expression is a made up of variables, operators, and method invocations, which are constructed according to the syntax of the language.\n",
    "- Expressions are representations of value. They are different from statement in the fact that statements do something while expressions are representation of value. For example any string is also an expressions since it represents the value of the string as well."
   ]
  },
  {
   "cell_type": "markdown",
   "id": "efe8565c",
   "metadata": {},
   "source": [
    "## 5. This assignment statements, like spam = 10. What is the difference between an expression and a statement?\n",
    "- Expression is made up of values, containers, and mathematical operators (operands) and the statement is just like a command that a python interpreter executes like print."
   ]
  },
  {
   "cell_type": "markdown",
   "id": "d759b185",
   "metadata": {},
   "source": [
    "## 6. After running the following code, what does the variable bacon contain?\n",
    "- bacon = 22\n",
    "- bacon + 1"
   ]
  },
  {
   "cell_type": "code",
   "execution_count": 12,
   "id": "d6cf4704",
   "metadata": {},
   "outputs": [
    {
     "data": {
      "text/plain": [
       "23"
      ]
     },
     "execution_count": 12,
     "metadata": {},
     "output_type": "execute_result"
    }
   ],
   "source": [
    "bacon = 22\n",
    "bacon + 1"
   ]
  },
  {
   "cell_type": "markdown",
   "id": "d4eaf201",
   "metadata": {},
   "source": [
    "## 7. What should the values of the following two terms be?\n",
    "- 'spam' + 'spamspam'\n",
    "- 'spam' * 3"
   ]
  },
  {
   "cell_type": "code",
   "execution_count": 13,
   "id": "914b5cb2",
   "metadata": {},
   "outputs": [
    {
     "data": {
      "text/plain": [
       "'spamspamspam'"
      ]
     },
     "execution_count": 13,
     "metadata": {},
     "output_type": "execute_result"
    }
   ],
   "source": [
    "'spam' + 'spamspam'"
   ]
  },
  {
   "cell_type": "code",
   "execution_count": 14,
   "id": "10b9f409",
   "metadata": {},
   "outputs": [
    {
     "data": {
      "text/plain": [
       "'spamspamspam'"
      ]
     },
     "execution_count": 14,
     "metadata": {},
     "output_type": "execute_result"
    }
   ],
   "source": [
    "'spam' * 3"
   ]
  },
  {
   "cell_type": "markdown",
   "id": "64a39c61",
   "metadata": {},
   "source": [
    "## 8. Why is eggs a valid variable name while 100 is invalid?\n",
    "- beacuse eggs is start with letter and 100 is start with a number as we know \n",
    "### variable name \n",
    "-A variable can have a short name (like x and y) or a more descriptive name (age, carname, total_volume). Rules for Python variables:\n",
    "\n",
    "- A variable name must start with a letter or the underscore character\n",
    "- A variable name cannot start with a number\n",
    "- A variable name can only contain alpha-numeric characters and underscores (A-z, 0-9, and _ )\n",
    "- Variable names are case-sensitive (age, Age and AGE are three different variables)"
   ]
  },
  {
   "cell_type": "code",
   "execution_count": 17,
   "id": "e01a3c83",
   "metadata": {},
   "outputs": [
    {
     "data": {
      "text/plain": [
       "'2'"
      ]
     },
     "execution_count": 17,
     "metadata": {},
     "output_type": "execute_result"
    }
   ],
   "source": [
    "eggs = '2'\n",
    "eggs"
   ]
  },
  {
   "cell_type": "code",
   "execution_count": 18,
   "id": "89a8ac17",
   "metadata": {},
   "outputs": [
    {
     "ename": "SyntaxError",
     "evalue": "cannot assign to literal (Temp/ipykernel_14188/4267645773.py, line 1)",
     "output_type": "error",
     "traceback": [
      "\u001b[1;36m  File \u001b[1;32m\"C:\\Users\\negia\\AppData\\Local\\Temp/ipykernel_14188/4267645773.py\"\u001b[1;36m, line \u001b[1;32m1\u001b[0m\n\u001b[1;33m    100 = \"2\"\u001b[0m\n\u001b[1;37m    ^\u001b[0m\n\u001b[1;31mSyntaxError\u001b[0m\u001b[1;31m:\u001b[0m cannot assign to literal\n"
     ]
    }
   ],
   "source": [
    "100 = \"2\"\n",
    "100"
   ]
  },
  {
   "cell_type": "markdown",
   "id": "067456a2",
   "metadata": {},
   "source": [
    "## 9. What three functions can be used to get the integer, floating-point number, or string version of a value?\n",
    "- The int() , float() , and str( ) functions will evaluate to the integer, floating-point number, and string versions of the value passed to them."
   ]
  },
  {
   "cell_type": "code",
   "execution_count": 28,
   "id": "6a3565b8",
   "metadata": {},
   "outputs": [
    {
     "data": {
      "text/plain": [
       "int"
      ]
     },
     "execution_count": 28,
     "metadata": {},
     "output_type": "execute_result"
    }
   ],
   "source": [
    "a = 10\n",
    "type(a) "
   ]
  },
  {
   "cell_type": "code",
   "execution_count": 29,
   "id": "d05f04db",
   "metadata": {},
   "outputs": [
    {
     "data": {
      "text/plain": [
       "10"
      ]
     },
     "execution_count": 29,
     "metadata": {},
     "output_type": "execute_result"
    }
   ],
   "source": [
    "int(a)"
   ]
  },
  {
   "cell_type": "code",
   "execution_count": 30,
   "id": "dd92999a",
   "metadata": {},
   "outputs": [
    {
     "data": {
      "text/plain": [
       "10.0"
      ]
     },
     "execution_count": 30,
     "metadata": {},
     "output_type": "execute_result"
    }
   ],
   "source": [
    "float(a)"
   ]
  },
  {
   "cell_type": "code",
   "execution_count": 31,
   "id": "c68d9bd0",
   "metadata": {},
   "outputs": [
    {
     "data": {
      "text/plain": [
       "'10'"
      ]
     },
     "execution_count": 31,
     "metadata": {},
     "output_type": "execute_result"
    }
   ],
   "source": [
    "str(a)"
   ]
  },
  {
   "cell_type": "markdown",
   "id": "705b81d2",
   "metadata": {},
   "source": [
    "##  10. Why does this expression cause an error? How can you fix it?-\n",
    "- 'i have eaten' + 99 + 'burritos'\n",
    " \n",
    " #### we can not add string with integer "
   ]
  },
  {
   "cell_type": "code",
   "execution_count": 33,
   "id": "4218de96",
   "metadata": {},
   "outputs": [
    {
     "data": {
      "text/plain": [
       "'i have eaten 99burritos'"
      ]
     },
     "execution_count": 33,
     "metadata": {},
     "output_type": "execute_result"
    }
   ],
   "source": [
    "# first we will convert integer into string\n",
    "\"i have eaten \"+str(99)+'burritos'"
   ]
  }
 ],
 "metadata": {
  "kernelspec": {
   "display_name": "Python 3 (ipykernel)",
   "language": "python",
   "name": "python3"
  },
  "language_info": {
   "codemirror_mode": {
    "name": "ipython",
    "version": 3
   },
   "file_extension": ".py",
   "mimetype": "text/x-python",
   "name": "python",
   "nbconvert_exporter": "python",
   "pygments_lexer": "ipython3",
   "version": "3.9.7"
  }
 },
 "nbformat": 4,
 "nbformat_minor": 5
}
