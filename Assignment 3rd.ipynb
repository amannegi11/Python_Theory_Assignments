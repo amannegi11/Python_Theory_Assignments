{
 "cells": [
  {
   "cell_type": "markdown",
   "id": "3a48a5b2",
   "metadata": {},
   "source": [
    "1. Why are functions advantageous to have in your programs?\n",
    " \n",
    "- functions reduce the need for duplicate code. This makes programs shorter, easier to read, and easier to update."
   ]
  },
  {
   "cell_type": "markdown",
   "id": "c9c078cf",
   "metadata": {},
   "source": [
    "2. When does the code in a function run: when it is specified or when it is called?\n",
    "\n",
    "- when function called it runs"
   ]
  },
  {
   "cell_type": "markdown",
   "id": "5c1e5da4",
   "metadata": {},
   "source": [
    "3. What statement creates a function?\n",
    "\n",
    "-The “def” keyword is a statement for defining a function in Python. \n",
    "You start a function with the def keyword, specify a name followed by a colon (:) sign. \n",
    "The “def” call creates the function object and assigns it to the name given. \n",
    "You can further re-assign the same function object to other names."
   ]
  },
  {
   "cell_type": "markdown",
   "id": "5b631812",
   "metadata": {},
   "source": [
    "4. What is the difference between a function and a function call?\n",
    "\n",
    "-A function is a block of code that does a particular operation and returns a result. It usually accepts inputs as parameters and returns a result. The parameters are not mandatory. A function call is the code used to pass control to a function."
   ]
  },
  {
   "cell_type": "markdown",
   "id": "9a1f5d3f",
   "metadata": {},
   "source": [
    "5. How many global scopes are there in a Python program? How many local scopes?\n",
    "\n",
    "- There's only one global Python scope per program execution. This scope remains in existence until the program terminates and all its names are forgotten.When you use an unqualified name inside a function, Python searches three scopes—the local (L), then the global (G), and then the built-in (B)—and stops at the first place the name is found."
   ]
  },
  {
   "cell_type": "markdown",
   "id": "e70c149b",
   "metadata": {},
   "source": [
    "6. What happens to variables in a local scope when the function call returns?\n",
    "\n",
    "- When the execution of the function returns, the local variables are destroyed. Codelens helps you visualize this because the local variables disappear after the function returns."
   ]
  },
  {
   "cell_type": "markdown",
   "id": "3fd22d3e",
   "metadata": {},
   "source": [
    "7. What is the concept of a return value? Is it possible to have a return value in an expression?\n",
    "\n",
    "-A function takes arguments (if any), performs some operations, and returns a value or object.no it not possible to have a return value in an expression"
   ]
  },
  {
   "cell_type": "markdown",
   "id": "fbe076d6",
   "metadata": {},
   "source": [
    "8. If a function does not have a return statement, what is the return value of a call to that function?\n",
    "\n",
    "- A function without an explicit return statement returns None . In the case of no arguments and no return value, the definition is very simple. Calling the function is performed by using the call operator () after the name of the function."
   ]
  },
  {
   "cell_type": "markdown",
   "id": "f09c0068",
   "metadata": {},
   "source": [
    "9. How do you make a function variable refer to the global variable?\n",
    "\n",
    "- use the global keyword to declare which variables are global."
   ]
  },
  {
   "cell_type": "markdown",
   "id": "a763dd28",
   "metadata": {},
   "source": [
    "10. What is the data type of None?\n",
    "\n",
    "- The None keyword is used to define a null value, or no value at all. None is not the same as 0, False, or an empty string. None is a data type of its own (NoneType) and only None can be None."
   ]
  },
  {
   "cell_type": "markdown",
   "id": "c07eb1f2",
   "metadata": {},
   "source": [
    "11. What does the sentence import areallyourpetsnamederic do?\n",
    "\n",
    "- That import statement imports a module named areallyourpetsnamederic."
   ]
  },
  {
   "cell_type": "markdown",
   "id": "86c6f557",
   "metadata": {},
   "source": [
    "12. If you had a bacon() feature in a spam module, what would you call it after importing spam?\n",
    "\n",
    "-This function can be called with spam. bacon().\n",
    "\n"
   ]
  },
  {
   "cell_type": "markdown",
   "id": "ff1f5b79",
   "metadata": {},
   "source": [
    "13. What can you do to save a programme from crashing if it encounters an error?\n",
    "\n",
    "-When it encounters an error, the control is passed to the except block, skipping the code in between. As seen in the above code, we have moved our code inside a try and except statement. Try running the program and it should throw an error message instead of crashing the program"
   ]
  },
  {
   "cell_type": "markdown",
   "id": "1e968e1d",
   "metadata": {},
   "source": [
    "14. What is the purpose of the try clause? What is the purpose of the except clause?\n",
    "\n",
    "-The try block lets you test a block of code for errors. The except block lets you handle the error. The else block lets you execute code when there is no error. The finally block lets you execute code, regardless of the result of the try- and except blocks."
   ]
  }
 ],
 "metadata": {
  "kernelspec": {
   "display_name": "Python 3 (ipykernel)",
   "language": "python",
   "name": "python3"
  },
  "language_info": {
   "codemirror_mode": {
    "name": "ipython",
    "version": 3
   },
   "file_extension": ".py",
   "mimetype": "text/x-python",
   "name": "python",
   "nbconvert_exporter": "python",
   "pygments_lexer": "ipython3",
   "version": "3.9.7"
  }
 },
 "nbformat": 4,
 "nbformat_minor": 5
}
