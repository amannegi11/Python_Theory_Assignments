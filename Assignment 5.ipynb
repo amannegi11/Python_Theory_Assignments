{
 "cells": [
  {
   "cell_type": "markdown",
   "id": "e5096b05",
   "metadata": {},
   "source": [
    "# 1. What does an empty dictionarys code look like?\n",
    "\n",
    "\n",
    "- in python we can print empty dictionary in 2 ways first just give empty cyrly brackets\n",
    "\n",
    "-  empty dictionary by using the dict() method it is a built-in function in Python and takes no arguments\n"
   ]
  },
  {
   "cell_type": "code",
   "execution_count": 1,
   "id": "9ad97c69",
   "metadata": {},
   "outputs": [
    {
     "data": {
      "text/plain": [
       "dict"
      ]
     },
     "execution_count": 1,
     "metadata": {},
     "output_type": "execute_result"
    }
   ],
   "source": [
    "A={}\n",
    "type(A)"
   ]
  },
  {
   "cell_type": "code",
   "execution_count": 1,
   "id": "b869b84e",
   "metadata": {},
   "outputs": [
    {
     "name": "stdout",
     "output_type": "stream",
     "text": [
      "<class 'dict'>\n"
     ]
    }
   ],
   "source": [
    "a=dict()\n",
    "print(type(a))"
   ]
  },
  {
   "cell_type": "markdown",
   "id": "5b627d27",
   "metadata": {},
   "source": [
    "# 2. What is the value of a dictionary value with the keys \"foo\" and the value 42?\n",
    "\n",
    "- value will be 42"
   ]
  },
  {
   "cell_type": "code",
   "execution_count": 6,
   "id": "3f40ee4d",
   "metadata": {},
   "outputs": [
    {
     "data": {
      "text/plain": [
       "42"
      ]
     },
     "execution_count": 6,
     "metadata": {},
     "output_type": "execute_result"
    }
   ],
   "source": [
    "dt={\"foo\":42}\n",
    "dt[\"foo\"]"
   ]
  },
  {
   "cell_type": "markdown",
   "id": "8149c660",
   "metadata": {},
   "source": [
    "# 3. What is the most significant distinction between a dictionary and a list?\n",
    "\n",
    "-  A list is an ordered sequence of objects, whereas dictionaries are unordered sets. However, the main difference is that items in dictionaries are accessed via keys and not via their position."
   ]
  },
  {
   "cell_type": "markdown",
   "id": "2b12aad1",
   "metadata": {},
   "source": [
    "# 4. What happens if you try to access spam[\"foo\"] if spam is {\"bar\": 100}?\n",
    "\n",
    "- it will give me an error "
   ]
  },
  {
   "cell_type": "code",
   "execution_count": 7,
   "id": "76cad66c",
   "metadata": {},
   "outputs": [
    {
     "ename": "KeyError",
     "evalue": "'foo'",
     "output_type": "error",
     "traceback": [
      "\u001b[1;31m---------------------------------------------------------------------------\u001b[0m",
      "\u001b[1;31mKeyError\u001b[0m                                  Traceback (most recent call last)",
      "\u001b[1;32m~\\AppData\\Local\\Temp/ipykernel_16532/178719693.py\u001b[0m in \u001b[0;36m<module>\u001b[1;34m\u001b[0m\n\u001b[0;32m      1\u001b[0m \u001b[0mspam\u001b[0m\u001b[1;33m=\u001b[0m\u001b[1;33m{\u001b[0m\u001b[1;34m\"bar\"\u001b[0m\u001b[1;33m:\u001b[0m\u001b[1;36m100\u001b[0m\u001b[1;33m}\u001b[0m\u001b[1;33m\u001b[0m\u001b[1;33m\u001b[0m\u001b[0m\n\u001b[1;32m----> 2\u001b[1;33m \u001b[0mspam\u001b[0m\u001b[1;33m[\u001b[0m\u001b[1;34m\"foo\"\u001b[0m\u001b[1;33m]\u001b[0m\u001b[1;33m\u001b[0m\u001b[1;33m\u001b[0m\u001b[0m\n\u001b[0m",
      "\u001b[1;31mKeyError\u001b[0m: 'foo'"
     ]
    }
   ],
   "source": [
    "spam={\"bar\":100}\n",
    "spam[\"foo\"]"
   ]
  },
  {
   "cell_type": "markdown",
   "id": "d4705af8",
   "metadata": {},
   "source": [
    "# 5. If a dictionary is stored in spam, what is the difference between the expressions \"cat\" in spam and \"cat\" in spam.keys()?\n",
    "\n",
    "- There is no difference. The in operator checks whether a value exists as a key in the dictionary. 'cat' in spam checks whether there is a 'cat' key in the dictionary, while 'cat' in spam. values() checks whether there is a value 'cat' for one of the keys in spam ."
   ]
  },
  {
   "cell_type": "markdown",
   "id": "be394101",
   "metadata": {},
   "source": [
    "# 6. If a dictionary is stored in spam, what is the difference between the expressions \"cat\" in spam and \"cat\" in spam.values()?\n",
    "\n",
    "- There is no difference. The in operator checks whether a value exists as a key in the dictionary. 'cat' in spam checks whether there is a 'cat' key in the dictionary, while 'cat' in spam. values() checks whether there is a value 'cat' for one of the keys in spam ."
   ]
  },
  {
   "cell_type": "markdown",
   "id": "38369f56",
   "metadata": {},
   "source": [
    "# 7. What is a shortcut for the following code?\n",
    "### if \"color\" not in spam:\n",
    "### spam[\"color\"] = \"black\"\n",
    "\n",
    "- we can use lambda here "
   ]
  },
  {
   "cell_type": "markdown",
   "id": "45514ecf",
   "metadata": {},
   "source": [
    "# 8. How do you \"pretty print\" dictionary values using which module and function?\n",
    "\n",
    "- Use pprint() to Pretty Print a Dictionary in Python\n",
    "Within the pprint module there is a function with the same name pprint() , which is the function used to pretty-print the given string or object. First, declare an array of dictionaries. Afterward, pretty print it using the function pprint"
   ]
  }
 ],
 "metadata": {
  "kernelspec": {
   "display_name": "Python 3 (ipykernel)",
   "language": "python",
   "name": "python3"
  },
  "language_info": {
   "codemirror_mode": {
    "name": "ipython",
    "version": 3
   },
   "file_extension": ".py",
   "mimetype": "text/x-python",
   "name": "python",
   "nbconvert_exporter": "python",
   "pygments_lexer": "ipython3",
   "version": "3.9.7"
  }
 },
 "nbformat": 4,
 "nbformat_minor": 5
}
