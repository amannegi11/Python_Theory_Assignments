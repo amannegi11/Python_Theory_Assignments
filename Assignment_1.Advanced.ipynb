{
 "cells": [
  {
   "cell_type": "markdown",
   "id": "5933f5ce",
   "metadata": {},
   "source": [
    "Q1. What is the purpose of Python's OOP?\n",
    "\n",
    "- Object-Oriented Programming makes the program easy to understand as well as efficient. Since the class is sharable, the code can be reused. Data is safe and secure with data abstraction. Polymorphism allows the same interface for different objects, so programmers can write efficient code.\n",
    "\n",
    "- The main concept of OOPs is to bind the data and the functions that work on that together as a single unit so that no other part of the code can access this data."
   ]
  },
  {
   "cell_type": "markdown",
   "id": "c6657c6e",
   "metadata": {},
   "source": [
    "Q2. Where does an inheritance search look for an attribute?\n",
    "\n",
    "- Python searches for an attribute in an upward tree of attributes. It first searches for the attribute in it's instance and then looks in the class it is generated from, to all super classes listed in its class header."
   ]
  },
  {
   "cell_type": "markdown",
   "id": "6119c9a7",
   "metadata": {},
   "source": [
    "Q3. How do you distinguish between a class object and an instance object?\n",
    "\n",
    "- instance object inherits the attributes of the class object from which it was created. class object is like a blueprint for intance object but instance object is a concrete item in out code. instance objects are new namespaces, thay start out empty but inherit object attributes that live in class object"
   ]
  },
  {
   "cell_type": "code",
   "execution_count": 3,
   "id": "e3806247",
   "metadata": {},
   "outputs": [
    {
     "data": {
      "text/plain": [
       "'aman'"
      ]
     },
     "execution_count": 3,
     "metadata": {},
     "output_type": "execute_result"
    }
   ],
   "source": [
    "class Person:# Person is a class object  \n",
    "    name='aman'\n",
    "    \n",
    "obj=Person() # obj is an instance object\n",
    "obj.name\n"
   ]
  },
  {
   "cell_type": "markdown",
   "id": "52f9f367",
   "metadata": {},
   "source": [
    "Q4. What makes the first argument in a class’s method function special?\n",
    "\n",
    "- first parameter of a function in class must be the object itself. Writing this parameter as self is merely a convention. It is not a keyword and has no special meaning in Python. We could use other names "
   ]
  },
  {
   "cell_type": "markdown",
   "id": "f8a95ac4",
   "metadata": {},
   "source": [
    "Q5. What is the purpose of the __ init__ method?\n",
    "\n",
    "- __ init __ It is a constructor which gets called when you make an instance of the class and it is not necessary. But usually it our practice to write init method for setting default state of the object."
   ]
  },
  {
   "cell_type": "markdown",
   "id": "55467ed9",
   "metadata": {},
   "source": [
    "Q6. What is the process for creating a class instance?\n",
    "\n",
    "-The first method __init__() is a special method, which is called class constructor or initialization method that Python calls when you create a new instance of this class. You declare other class methods like normal functions with the exception that the first argument to each method is self."
   ]
  },
  {
   "cell_type": "markdown",
   "id": "429ec878",
   "metadata": {},
   "source": [
    "Q7. What is the process for creating a class?\n",
    "\n",
    "- Create a Class. To create a class, use the keyword class : ...\n",
    "- Create Object. Now we can use the class named MyClass to create objects"
   ]
  },
  {
   "cell_type": "code",
   "execution_count": 5,
   "id": "456b3f10",
   "metadata": {},
   "outputs": [],
   "source": [
    "class Myclass:\n",
    "    pass"
   ]
  },
  {
   "cell_type": "markdown",
   "id": "6a08faf1",
   "metadata": {},
   "source": [
    "Q8. How would you define the superclasses of a class?\n",
    "\n",
    "- A superclass is the class from which many subclasses can be created. The subclasses inherit the characteristics of a superclass. The superclass is also known as the parent class or base class. In the above example, Vehicle is the Superclass and its subclasses are Car, Truck and Motorcycle"
   ]
  }
 ],
 "metadata": {
  "kernelspec": {
   "display_name": "Python 3 (ipykernel)",
   "language": "python",
   "name": "python3"
  },
  "language_info": {
   "codemirror_mode": {
    "name": "ipython",
    "version": 3
   },
   "file_extension": ".py",
   "mimetype": "text/x-python",
   "name": "python",
   "nbconvert_exporter": "python",
   "pygments_lexer": "ipython3",
   "version": "3.9.7"
  }
 },
 "nbformat": 4,
 "nbformat_minor": 5
}
