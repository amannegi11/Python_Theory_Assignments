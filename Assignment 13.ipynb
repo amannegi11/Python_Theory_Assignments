{
 "cells": [
  {
   "cell_type": "markdown",
   "id": "0710d5fa",
   "metadata": {},
   "source": [
    "## 1. What advantages do Excel spreadsheets have over CSV spreadsheets?\n",
    "Ans:\n",
    "\n",
    "The advantages of Excel over CSV are:\n",
    "\n",
    "Excel (XLS and XLSX) file formats are better for storing and analysing complex data.\n",
    "\n",
    "An Excel not only stores data but can also do operations on the data using macros, formulas etc.\n",
    "\n",
    "CSV files are plain-text files, it does not contain formatting, formulas, macros, etc. It is also known as flat files.\n",
    "\n",
    "## 2. What do you pass to csv.reader() and csv.writer() to create reader and writer objects?\n",
    "Ans:\n",
    "\n",
    "The csv.reader(csvfile, dialect='excel', **fmtparams) method can be used to extract data from a file that contains CSV-formatted data. The parameters that passed are:\n",
    "\n",
    "csvfile: An object that supports the iterator protocol, which in this case is usually a file object for the CSV file.\n",
    "\n",
    "dialect (optional): The name of the dialect to use.\n",
    "\n",
    "fmtparams (optional): Formatting parameters that will overwrite those specified in the dialect.\n",
    "\n",
    "The csv.writer(csvfile, dialect='excel', **fmtparams) method, which is similar to the reader method we described above, is a method that permits us to write data to a file in CSV format. Here the parameters are:\n",
    "\n",
    "csvfile: Any object with a write() method, which in this case is usually a file object.\n",
    "\n",
    "dialect (optional): The name of the dialect to use.\n",
    "\n",
    "fmtparams (optional):Formatting parameters that will overwrite those specified in the dialect.\n",
    "\n",
    "## 3. What modes do File objects for reader and writer objects need to be opened in?\n",
    "Ans:\n",
    "\n",
    "In order to open a file for reading or writing purposes, we must use the built-in open() function. It takes two arguments. First is the name of the file and second is for what purpose we want to open it .i.e. for reading or writing.\n",
    "\n",
    "For reading purpose the modes are:\n",
    "\n",
    "r: Open a file for reading (default).\n",
    "\n",
    "rb: Opens a file for reading only in binary format.\n",
    "\n",
    "r+: Opens a file for both reading and writing.\n",
    "\n",
    "For writing purpose modes are:\n",
    "\n",
    "w: Opens a file for writing only. Overwrites the file if the file exists. If the file does not exist, creates a new file for writing.\n",
    "\n",
    "w+: Opens a file for both writing and reading.\n",
    "\n",
    "wb+: Opens a file for both writing and reading in binary format.\n",
    "\n",
    "a: Opens a file for appending. The file pointer is at the end of the file if the file exists. That is, the file is in the append mode. If the file does not exist, it creates a new file for writing.\n",
    "\n",
    "a+: Opens a file for both appending and reading.\n",
    "\n",
    "ab: Opens a file for appending in binary format.\n",
    "\n",
    "ab+: Opens a file for both appending and reading in binary format.\n",
    "\n",
    "x: open for exclusive creation, failing if the file already exists.\n",
    "\n",
    "## 4. What method takes a list argument and writes it to a CSV file?\n",
    "Ans:\n",
    "\n",
    "csv.writer class provides two methods for writing to CSV file, they are writerow() and writerows(). writerow() method writes a single row at a time, whereas writerows() method is used to write multiple rows at a time.\n",
    "\n",
    "## 5. What do the keyword arguments delimiter and line terminator do?\n",
    "Ans:\n",
    "\n",
    "The delimiter is the character that appears between cells on a row. By default, the delimiter for a CSV file is a comma. The line terminator is the character that comes at the end of a row. By default, the line terminator is a newline.\n",
    "\n"
   ]
  },
  {
   "cell_type": "markdown",
   "id": "e1cc36cf",
   "metadata": {},
   "source": [
    "## 6 . What function takes a string of JSON data and returns a Python data structure?"
   ]
  },
  {
   "cell_type": "code",
   "execution_count": 7,
   "id": "da69b254",
   "metadata": {},
   "outputs": [
    {
     "name": "stdout",
     "output_type": "stream",
     "text": [
      "{\n",
      "    \"Name\": \"Aman negi\",\n",
      "    \"Course\": \"Full Stack Data Science\",\n",
      "    \"Institution\": \"iNeuron\"\n",
      "}\n",
      "Type of my_details_json is <class 'str'>\n",
      "\n",
      "\n",
      "{'Name': 'Aman negi', 'Course': 'Full Stack Data Science', 'Institution': 'iNeuron'}\n",
      "Type of my_details is <class 'dict'>\n"
     ]
    }
   ],
   "source": [
    "# importing the json module\n",
    "import json\n",
    "\n",
    "# Creating a json data string\n",
    "my_details_json ='''{\n",
    "    \"Name\": \"Aman negi\",\n",
    "    \"Course\": \"Full Stack Data Science\",\n",
    "    \"Institution\": \"iNeuron\"\n",
    "}'''\n",
    "\n",
    "# printing the json data string in json format\n",
    "print(my_details_json)\n",
    "print(f'Type of my_details_json is {type(my_details_json)}')\n",
    "\n",
    "print(\"\\n\")\n",
    "\n",
    "# Using loads() method to convert the json data into python data structure\n",
    "my_details = json.loads(my_details_json)\n",
    "print(my_details)\n",
    "print(f'Type of my_details is {type(my_details)}')"
   ]
  },
  {
   "cell_type": "markdown",
   "id": "b7567a08",
   "metadata": {},
   "source": [
    "## 7. What function takes a Python data structure and returns a string of JSON data?"
   ]
  },
  {
   "cell_type": "code",
   "execution_count": 6,
   "id": "63463de8",
   "metadata": {},
   "outputs": [
    {
     "name": "stdout",
     "output_type": "stream",
     "text": [
      "{'Name': 'Aman negi', 'Course': 'Full Stack Data Science', 'Institution': 'iNeuron'}\n",
      "Type of my_details is <class 'dict'>\n",
      "\n",
      "\n",
      "{\n",
      "    \"Course\": \"Full Stack Data Science\",\n",
      "    \"Institution\": \"iNeuron\",\n",
      "    \"Name\": \"Aman negi\"\n",
      "}\n",
      "Type of my_details_json is <class 'str'>\n"
     ]
    }
   ],
   "source": [
    "#Ans:\n",
    "\n",
    "# dumps() method takes a python data structure and returns a string of JSON data.\n",
    "\n",
    "# importing the json module\n",
    "import json\n",
    "\n",
    "# Creating a python dictionary structure\n",
    "my_details = {\n",
    "    \"Name\": \"Aman negi\",\n",
    "    \"Course\": \"Full Stack Data Science\",\n",
    "    \"Institution\": \"iNeuron\"\n",
    "}\n",
    "\n",
    "# Printing the data in python structure\n",
    "print(my_details)\n",
    "print(f'Type of my_details is {type(my_details)}')\n",
    "\n",
    "print(\"\\n\")\n",
    "\n",
    "# Using dumps() method to convert the dictionary data into json data \n",
    "my_details_json = json.dumps(my_details, indent=4, sort_keys=True)\n",
    "print(my_details_json)\n",
    "print(f'Type of my_details_json is {type(my_details_json)}')"
   ]
  },
  {
   "cell_type": "code",
   "execution_count": null,
   "id": "1afd4c69",
   "metadata": {},
   "outputs": [],
   "source": []
  },
  {
   "cell_type": "code",
   "execution_count": null,
   "id": "6529533d",
   "metadata": {},
   "outputs": [],
   "source": []
  }
 ],
 "metadata": {
  "kernelspec": {
   "display_name": "Python 3 (ipykernel)",
   "language": "python",
   "name": "python3"
  },
  "language_info": {
   "codemirror_mode": {
    "name": "ipython",
    "version": 3
   },
   "file_extension": ".py",
   "mimetype": "text/x-python",
   "name": "python",
   "nbconvert_exporter": "python",
   "pygments_lexer": "ipython3",
   "version": "3.9.12"
  }
 },
 "nbformat": 4,
 "nbformat_minor": 5
}
